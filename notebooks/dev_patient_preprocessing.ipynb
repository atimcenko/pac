{
 "cells": [
  {
   "cell_type": "code",
   "execution_count": 1,
   "id": "c3145de0-3f23-4934-9d84-6cd27fcadb83",
   "metadata": {},
   "outputs": [
    {
     "name": "stdout",
     "output_type": "stream",
     "text": [
      "Succesfully imported libraries and modules\n",
      "\n"
     ]
    }
   ],
   "source": [
    "%run imports.py"
   ]
  },
  {
   "cell_type": "code",
   "execution_count": 2,
   "id": "3138bad4-45ea-4924-b31b-d0ea10c75544",
   "metadata": {},
   "outputs": [
    {
     "name": "stdout",
     "output_type": "stream",
     "text": [
      "Succesfully imported libraries and modules\n",
      "\n"
     ]
    },
    {
     "name": "stdin",
     "output_type": "stream",
     "text": [
      "Enter patient number:  4\n",
      "Confirm preprocessing for Patient4? y/n:  y\n"
     ]
    },
    {
     "name": "stdout",
     "output_type": "stream",
     "text": [
      "List of things to make sure before analysis: \n",
      "1) .bdf files are in patient folder (root_dir)\n",
      "2) annotation files share the same name as .bdf files but with _annotations.txt suffix\n",
      "3) annotations share the same naming principle: e.g. 1Day OFF RH (Com)\n",
      "Looking for .bdf files in D:\\LAB\\AlexPAC\\data\\Patient4\n",
      "Found ['Krasova_STN_postoperHP_0.5Hz_1 Day.bdf', 'Krasova_STN_postoperHP_0.5Hz_5 Day_Part 1.bdf', 'Krasova_STN_postoperHP_0.5Hz_5 Day_Part 2.bdf']\n",
      "Reading  Krasova_STN_postoperHP_0.5Hz_1 Day_annotations.txt\n",
      "       Onset  Duration           Annotation   Day L-DOPA          State\n",
      "0     12.000      30.0    1Day OFF Rest (1)  1Day    OFF    [Rest, (1)]\n",
      "1     55.000      80.0    1Day OFF Rest (2)  1Day    OFF    [Rest, (2)]\n",
      "2    144.000     150.0    1Day OFF Rest (3)  1Day    OFF    [Rest, (3)]\n",
      "3    314.000      60.0    1Day OFF RH (Com)  1Day    OFF    [RH, (Com)]\n",
      "4    500.000      30.0  1Day OFF RH (NoCom)  1Day    OFF  [RH, (NoCom)]\n",
      "5    588.000      40.0   1Day OFF RH (Pass)  1Day    OFF   [RH, (Pass)]\n",
      "6    668.000     120.0   1Day OFF RH (Hold)  1Day    OFF   [RH, (Hold)]\n",
      "7    839.000      60.0    1Day OFF LH (Com)  1Day    OFF    [LH, (Com)]\n",
      "8    941.000      30.0  1Day OFF LH (NoCom)  1Day    OFF  [LH, (NoCom)]\n",
      "9   1000.000      30.0   1Day OFF LH (Pass)  1Day    OFF   [LH, (Pass)]\n",
      "10  1073.500     120.0   1Day OFF LH (Hold)  1Day    OFF   [LH, (Hold)]\n",
      "11  1235.500      30.0        1Day OFF RHLH  1Day    OFF         [RHLH]\n",
      "12  3834.500     180.0     1Day ON Rest (1)  1Day     ON    [Rest, (1)]\n",
      "13  4017.500      90.0     1Day ON Rest (2)  1Day     ON    [Rest, (2)]\n",
      "14  4147.000      80.0     1Day ON RH (Com)  1Day     ON    [RH, (Com)]\n",
      "15  4268.500      30.0   1Day ON RH (NoCom)  1Day     ON  [RH, (NoCom)]\n",
      "16  4333.501      30.0    1Day ON RH (Pass)  1Day     ON   [RH, (Pass)]\n",
      "17  4395.500     120.0    1Day ON RH (Hold)  1Day     ON   [RH, (Hold)]\n",
      "18  4589.500      80.0     1Day ON LH (Com)  1Day     ON    [LH, (Com)]\n",
      "19  4693.800      40.0   1Day ON LH (NoCom)  1Day     ON  [LH, (NoCom)]\n",
      "20  4760.500      30.0    1Day ON LH (Pass)  1Day     ON   [LH, (Pass)]\n",
      "21  4824.500     120.0    1Day ON LH (Hold)  1Day     ON   [LH, (Hold)]\n",
      "22  5007.000      30.0         1Day ON RHLH  1Day     ON         [RHLH]\n",
      "Updated self.file_condition with annotations from file\n",
      "Reading  Krasova_STN_postoperHP_0.5Hz_5 Day_Part 1_annotations.txt\n",
      "    Onset  Duration           Annotation   Day L-DOPA          State\n",
      "0   13.00     180.0        5Day OFF Rest  5Day    OFF         [Rest]\n",
      "1  198.00      60.0    5Day OFF RH (Com)  5Day    OFF    [RH, (Com)]\n",
      "2  296.00      30.0  5Day OFF RH (NoCom)  5Day    OFF  [RH, (NoCom)]\n",
      "3  378.50     120.0   5Day OFF RH (Hold)  5Day    OFF   [RH, (Hold)]\n",
      "4  512.50      30.0   5Day OFF RH (Pass)  5Day    OFF   [RH, (Pass)]\n",
      "5  573.50      60.0    5Day OFF LH (Com)  5Day    OFF    [LH, (Com)]\n",
      "6  669.50      30.0  5Day OFF LH (NoCom)  5Day    OFF  [LH, (NoCom)]\n",
      "7  733.75     120.0   5Day OFF LH (Hold)  5Day    OFF   [LH, (Hold)]\n",
      "8  875.00      30.0   5Day OFF LH (Pass)  5Day    OFF   [LH, (Pass)]\n",
      "9  943.00      30.0        5Day OFF RHLH  5Day    OFF         [RHLH]\n",
      "Updated self.file_condition with annotations from file\n",
      "Reading  Krasova_STN_postoperHP_0.5Hz_5 Day_Part 2_annotations.txt\n",
      "    Onset  Duration          Annotation   Day L-DOPA          State\n",
      "0    7.00     140.0        5Day ON Rest  5Day     ON         [Rest]\n",
      "1  147.00      60.0    5Day ON RH (Com)  5Day     ON    [RH, (Com)]\n",
      "2  233.00      30.0  5Day ON RH (NoCom)  5Day     ON  [RH, (NoCom)]\n",
      "3  274.00     110.0   5Day ON RH (Hold)  5Day     ON   [RH, (Hold)]\n",
      "4  408.50      30.0   5Day ON RH (Pass)  5Day     ON   [RH, (Pass)]\n",
      "5  464.25      60.0    5Day ON LH (Com)  5Day     ON    [LH, (Com)]\n",
      "6  562.00      30.0  5Day ON LH (NoCom)  5Day     ON  [LH, (NoCom)]\n",
      "7  622.00     110.0   5Day ON LH (Hold)  5Day     ON   [LH, (Hold)]\n",
      "8  742.50      30.0   5Day ON LH (Pass)  5Day     ON   [LH, (Pass)]\n",
      "9  828.75      30.0        5Day ON RHLH  5Day     ON         [RHLH]\n",
      "Updated self.file_condition with annotations from file\n",
      "Started reading D:\\LAB\\AlexPAC\\data\\Patient4\\Krasova_STN_postoperHP_0.5Hz_1 Day.bdf\n",
      "Channels: [9, 10, 11, 12, 13, 14, 15, 16, 17, 18, 19, 20, 21, 22, 23, 24]\n"
     ]
    },
    {
     "name": "stderr",
     "output_type": "stream",
     "text": [
      "Reading Channels: 100%|████████████████████████████████████████████████████████████████| 16/16 [02:02<00:00,  7.67s/it]\n"
     ]
    },
    {
     "name": "stdout",
     "output_type": "stream",
     "text": [
      "EEG A2-R_1-9[A2]\n",
      "EEG F8-R_2C-15[F\n",
      "EEG T4-R_2B-12[T\n",
      "EEG T6-R_2A-10[T\n",
      "EEG F4-R_3C-16[F\n",
      "EEG C4-R_3B-14[C\n",
      "EEG P4-R_3A-11[P\n",
      "EEG O2-R_4-13[O2\n",
      "EEG A1-R_1-1[A1]\n",
      "EEG F7-R_2C-7[F7\n",
      "EEG T3-R_2B-4[T3\n",
      "EEG T5-R_2A-2[T5\n",
      "EEG F3-R_3C-8[F3\n",
      "EEG C3-R_3B-6[C3\n",
      "EEG P3-R_3A-3[P3\n",
      "EEG O1-R_4-5[O1]\n",
      "Sampling frequency:  16000.0\n",
      "Downsampling by the factor  8\n",
      "New sampling frequency:  2000.0\n",
      "Reading done, 249.9 sec\n",
      "Started creating bipolar signals\n",
      "\n",
      "R1-2C created\n",
      "R1-2B created\n",
      "R1-2A created\n",
      "R2C-2B created\n",
      "R2B-2A created\n",
      "R2A-2C created\n",
      "R2C-3C created\n",
      "R2B-3B created\n",
      "R2A-3A created\n",
      "R3C-3B created\n",
      "R3B-3A created\n",
      "R3A-3C created\n",
      "R4-3C created\n",
      "R4-3B created\n",
      "R4-3A created\n",
      "L1-2C created\n",
      "L1-2B created\n",
      "L1-2A created\n",
      "L2C-2B created\n",
      "L2B-2A created\n",
      "L2A-2C created\n",
      "L2C-3C created\n",
      "L2B-3B created\n",
      "L2A-3A created\n",
      "L3C-3B created\n",
      "L3B-3A created\n",
      "L3A-3C created\n",
      "L4-3C created\n",
      "L4-3B created\n",
      "L4-3A created\n"
     ]
    },
    {
     "data": {
      "application/vnd.jupyter.widget-view+json": {
       "model_id": "a6e1959b517547b6851e6d525aaf0575",
       "version_major": 2,
       "version_minor": 0
      },
      "text/plain": [
       "Creating LFPs:   0%|          | 0/30 [00:00<?, ?it/s]"
      ]
     },
     "metadata": {},
     "output_type": "display_data"
    },
    {
     "name": "stdout",
     "output_type": "stream",
     "text": [
      "Started reading D:\\LAB\\AlexPAC\\data\\Patient4\\Krasova_STN_postoperHP_0.5Hz_5 Day_Part 1.bdf\n",
      "Channels: [9, 10, 11, 12, 13, 14, 15, 16, 17, 18, 19, 20, 21, 22, 23, 24]\n"
     ]
    },
    {
     "name": "stderr",
     "output_type": "stream",
     "text": [
      "Reading Channels: 100%|████████████████████████████████████████████████████████████████| 16/16 [01:27<00:00,  5.47s/it]\n"
     ]
    },
    {
     "name": "stdout",
     "output_type": "stream",
     "text": [
      "EEG A2-R_1-9[A2]\n",
      "EEG F8-R_2C-15[F\n",
      "EEG T4-R_2B-12[T\n",
      "EEG T6-R_2A-10[T\n",
      "EEG F4-R_3C-16[F\n",
      "EEG C4-R_3B-14[C\n",
      "EEG P4-R_3A-11[P\n",
      "EEG O2-R_4-13[O2\n",
      "EEG A1-R_1-1[A1]\n",
      "EEG F7-R_2C-7[F7\n",
      "EEG T3-R_2B-4[T3\n",
      "EEG T5-R_2A-2[T5\n",
      "EEG F3-R_3C-8[F3\n",
      "EEG C3-R_3B-6[C3\n",
      "EEG P3-R_3A-3[P3\n",
      "EEG O1-R_4-5[O1]\n",
      "Sampling frequency:  16000.0\n",
      "Downsampling by the factor  8\n",
      "New sampling frequency:  2000.0\n",
      "Reading done, 129.1 sec\n",
      "Started creating bipolar signals\n",
      "\n",
      "R1-2C created\n",
      "R1-2B created\n",
      "R1-2A created\n",
      "R2C-2B created\n",
      "R2B-2A created\n",
      "R2A-2C created\n",
      "R2C-3C created\n",
      "R2B-3B created\n",
      "R2A-3A created\n",
      "R3C-3B created\n",
      "R3B-3A created\n",
      "R3A-3C created\n",
      "R4-3C created\n",
      "R4-3B created\n",
      "R4-3A created\n",
      "L1-2C created\n",
      "L1-2B created\n",
      "L1-2A created\n",
      "L2C-2B created\n",
      "L2B-2A created\n",
      "L2A-2C created\n",
      "L2C-3C created\n",
      "L2B-3B created\n",
      "L2A-3A created\n",
      "L3C-3B created\n",
      "L3B-3A created\n",
      "L3A-3C created\n",
      "L4-3C created\n",
      "L4-3B created\n",
      "L4-3A created\n"
     ]
    },
    {
     "data": {
      "application/vnd.jupyter.widget-view+json": {
       "model_id": "3b52b0b9301d42bfba632f27e6482237",
       "version_major": 2,
       "version_minor": 0
      },
      "text/plain": [
       "Creating LFPs:   0%|          | 0/30 [00:00<?, ?it/s]"
      ]
     },
     "metadata": {},
     "output_type": "display_data"
    },
    {
     "name": "stdout",
     "output_type": "stream",
     "text": [
      "Started reading D:\\LAB\\AlexPAC\\data\\Patient4\\Krasova_STN_postoperHP_0.5Hz_5 Day_Part 2.bdf\n",
      "Channels: [9, 10, 11, 12, 13, 14, 15, 16, 17, 18, 19, 20, 21, 22, 23, 24]\n"
     ]
    },
    {
     "name": "stderr",
     "output_type": "stream",
     "text": [
      "Reading Channels: 100%|████████████████████████████████████████████████████████████████| 16/16 [00:53<00:00,  3.34s/it]\n"
     ]
    },
    {
     "name": "stdout",
     "output_type": "stream",
     "text": [
      "EEG A2-R_1-9[A2]\n",
      "EEG F8-R_2C-15[F\n",
      "EEG T4-R_2B-12[T\n",
      "EEG T6-R_2A-10[T\n",
      "EEG F4-R_3C-16[F\n",
      "EEG C4-R_3B-14[C\n",
      "EEG P4-R_3A-11[P\n",
      "EEG O2-R_4-13[O2\n",
      "EEG A1-R_1-1[A1]\n",
      "EEG F7-R_2C-7[F7\n",
      "EEG T3-R_2B-4[T3\n",
      "EEG T5-R_2A-2[T5\n",
      "EEG F3-R_3C-8[F3\n",
      "EEG C3-R_3B-6[C3\n",
      "EEG P3-R_3A-3[P3\n",
      "EEG O1-R_4-5[O1]\n",
      "Sampling frequency:  16000.0\n",
      "Downsampling by the factor  8\n",
      "New sampling frequency:  2000.0\n",
      "Reading done, 75.5 sec\n",
      "Started creating bipolar signals\n",
      "\n",
      "R1-2C created\n",
      "R1-2B created\n",
      "R1-2A created\n",
      "R2C-2B created\n",
      "R2B-2A created\n",
      "R2A-2C created\n",
      "R2C-3C created\n",
      "R2B-3B created\n",
      "R2A-3A created\n",
      "R3C-3B created\n",
      "R3B-3A created\n",
      "R3A-3C created\n",
      "R4-3C created\n",
      "R4-3B created\n",
      "R4-3A created\n",
      "L1-2C created\n",
      "L1-2B created\n",
      "L1-2A created\n",
      "L2C-2B created\n",
      "L2B-2A created\n",
      "L2A-2C created\n",
      "L2C-3C created\n",
      "L2B-3B created\n",
      "L2A-3A created\n",
      "L3C-3B created\n",
      "L3B-3A created\n",
      "L3A-3C created\n",
      "L4-3C created\n",
      "L4-3B created\n",
      "L4-3A created\n"
     ]
    },
    {
     "data": {
      "application/vnd.jupyter.widget-view+json": {
       "model_id": "70592b6a67e74de3ada5aaddc68e0b01",
       "version_major": 2,
       "version_minor": 0
      },
      "text/plain": [
       "Creating LFPs:   0%|          | 0/30 [00:00<?, ?it/s]"
      ]
     },
     "metadata": {},
     "output_type": "display_data"
    },
    {
     "name": "stdout",
     "output_type": "stream",
     "text": [
      "----1Day----\n",
      "------OFF------\n",
      "     Onset  Duration          State\n",
      "0     12.0      30.0    [Rest, (1)]\n",
      "1     55.0      80.0    [Rest, (2)]\n",
      "2    144.0     150.0    [Rest, (3)]\n",
      "3    314.0      60.0    [RH, (Com)]\n",
      "4    500.0      30.0  [RH, (NoCom)]\n",
      "5    588.0      40.0   [RH, (Pass)]\n",
      "6    668.0     120.0   [RH, (Hold)]\n",
      "7    839.0      60.0    [LH, (Com)]\n",
      "8    941.0      30.0  [LH, (NoCom)]\n",
      "9   1000.0      30.0   [LH, (Pass)]\n",
      "10  1073.5     120.0   [LH, (Hold)]\n",
      "11  1235.5      30.0         [RHLH]\n",
      "------ON------\n",
      "       Onset  Duration          State\n",
      "12  3834.500     180.0    [Rest, (1)]\n",
      "13  4017.500      90.0    [Rest, (2)]\n",
      "14  4147.000      80.0    [RH, (Com)]\n",
      "15  4268.500      30.0  [RH, (NoCom)]\n",
      "16  4333.501      30.0   [RH, (Pass)]\n",
      "17  4395.500     120.0   [RH, (Hold)]\n",
      "18  4589.500      80.0    [LH, (Com)]\n",
      "19  4693.800      40.0  [LH, (NoCom)]\n",
      "20  4760.500      30.0   [LH, (Pass)]\n",
      "21  4824.500     120.0   [LH, (Hold)]\n",
      "22  5007.000      30.0         [RHLH]\n",
      "----5Day----\n",
      "------OFF------\n",
      "    Onset  Duration          State\n",
      "0   13.00     180.0         [Rest]\n",
      "1  198.00      60.0    [RH, (Com)]\n",
      "2  296.00      30.0  [RH, (NoCom)]\n",
      "3  378.50     120.0   [RH, (Hold)]\n",
      "4  512.50      30.0   [RH, (Pass)]\n",
      "5  573.50      60.0    [LH, (Com)]\n",
      "6  669.50      30.0  [LH, (NoCom)]\n",
      "7  733.75     120.0   [LH, (Hold)]\n",
      "8  875.00      30.0   [LH, (Pass)]\n",
      "9  943.00      30.0         [RHLH]\n",
      "------ON------\n",
      "    Onset  Duration          State\n",
      "0    7.00     140.0         [Rest]\n",
      "1  147.00      60.0    [RH, (Com)]\n",
      "2  233.00      30.0  [RH, (NoCom)]\n",
      "3  274.00     110.0   [RH, (Hold)]\n",
      "4  408.50      30.0   [RH, (Pass)]\n",
      "5  464.25      60.0    [LH, (Com)]\n",
      "6  562.00      30.0  [LH, (NoCom)]\n",
      "7  622.00     110.0   [LH, (Hold)]\n",
      "8  742.50      30.0   [LH, (Pass)]\n",
      "9  828.75      30.0         [RHLH]\n",
      "{'5Day OFF LH (Hold)', '5Day OFF LH (Pass)', '5Day ON RH (Com)', '1Day ON RH (Hold)', '1Day ON RH (NoCom)', '5Day OFF LH (NoCom)', '5Day ON Rest', '1Day OFF RH (NoCom)', '5Day ON RHLH', '5Day ON RH (NoCom)', '1Day OFF Rest (1)', '5Day ON LH (NoCom)', '5Day OFF Rest', '5Day OFF LH (Com)', '1Day OFF RH (Pass)', '1Day ON RHLH', '1Day OFF Rest (2)', '1Day ON LH (Pass)', '5Day OFF RH (Hold)', '5Day ON LH (Hold)', '5Day ON RH (Hold)', '5Day OFF RH (Pass)', '1Day ON LH (Com)', '1Day OFF RH (Hold)', '5Day OFF RH (NoCom)', '1Day ON LH (NoCom)', '1Day ON RH (Pass)', '1Day OFF LH (Hold)', '1Day OFF LH (NoCom)', '1Day ON RH (Com)', '1Day ON Rest (2)', '5Day ON LH (Pass)', '1Day OFF Rest (3)', '5Day ON LH (Com)', '1Day ON Rest (1)', '5Day OFF RH (Com)', '1Day OFF RH (Com)', '1Day OFF LH (Com)', '5Day OFF RHLH', '1Day ON LH (Hold)', '5Day ON RH (Pass)', '1Day OFF RHLH', '1Day OFF LH (Pass)'}\n",
      "Adding LFP to Patient4 object. \n",
      "Condition: 1Day OFF Rest 180sec \n",
      "Placement: R2A-3A\n",
      "Updating condition\n",
      "Adding LFP to Patient4 object. \n",
      "Condition: 1Day ON Rest 180sec \n",
      "Placement: R2A-3A\n",
      "Updating condition\n",
      "Adding LFP to Patient4 object. \n",
      "Condition: 1Day OFF RH Move 180sec \n",
      "Placement: R2A-3A\n",
      "Updating condition\n",
      "Adding LFP to Patient4 object. \n",
      "Condition: 1Day OFF LH Move 180sec \n",
      "Placement: R2A-3A\n",
      "Updating condition\n",
      "Adding LFP to Patient4 object. \n",
      "Condition: 1Day ON RH Move 180sec \n",
      "Placement: R2A-3A\n",
      "Updating condition\n",
      "Adding LFP to Patient4 object. \n",
      "Condition: 1Day ON LH Move 180sec \n",
      "Placement: R2A-3A\n",
      "Updating condition\n",
      "Adding LFP to Patient4 object. \n",
      "Condition: 5Day OFF Rest 180sec \n",
      "Placement: R2A-3A\n",
      "Updating condition\n",
      "Adding LFP to Patient4 object. \n",
      "Condition: 5Day ON Rest 180sec \n",
      "Placement: R2A-3A\n",
      "Updating condition\n",
      "Adding LFP to Patient4 object. \n",
      "Condition: 5Day OFF RH Move 180sec \n",
      "Placement: R2A-3A\n",
      "Updating condition\n",
      "Adding LFP to Patient4 object. \n",
      "Condition: 5Day OFF LH Move 180sec \n",
      "Placement: R2A-3A\n",
      "Updating condition\n",
      "Adding LFP to Patient4 object. \n",
      "Condition: 5Day ON RH Move 180sec \n",
      "Placement: R2A-3A\n",
      "Updating condition\n",
      "Adding LFP to Patient4 object. \n",
      "Condition: 5Day ON LH Move 180sec \n",
      "Placement: R2A-3A\n",
      "Updating condition\n",
      "Created the following conditions for Patient4:\n",
      "1Day ON LH Move 180sec\n",
      "1Day OFF RH Move 180sec\n",
      "5Day ON Rest 180sec\n",
      "5Day ON LH Move 180sec\n",
      "1Day OFF LH Move 180sec\n",
      "5Day OFF Rest 180sec\n",
      "1Day ON RH Move 180sec\n",
      "1Day OFF Rest 180sec\n",
      "5Day OFF LH Move 180sec\n",
      "5Day ON RH Move 180sec\n",
      "5Day OFF RH Move 180sec\n",
      "1Day ON Rest 180sec\n",
      "Saving Patient4 object to D:\\LAB\\AlexPAC\\data\\Patient4\\Patient4.pkl ...\n",
      "Pickling Patient4 without ['pac']\n",
      "Done, 2.902583122253418 sec\n",
      "File size: 2330.3248109817505 MB\n",
      "Returning filepath for saved file\n"
     ]
    }
   ],
   "source": [
    "%run preprocessing.py"
   ]
  },
  {
   "cell_type": "code",
   "execution_count": 3,
   "id": "91a7bb46-37d7-42f3-abbe-5f74bae86f47",
   "metadata": {},
   "outputs": [
    {
     "name": "stdout",
     "output_type": "stream",
     "text": [
      "Patient directory:  D:\\LAB\\AlexPAC\\data\\Patient4\n"
     ]
    }
   ],
   "source": [
    "p4 = load_patient(4)"
   ]
  },
  {
   "cell_type": "code",
   "execution_count": 4,
   "id": "9c4f63d6-a571-4b9f-ae71-7c092daad651",
   "metadata": {},
   "outputs": [
    {
     "data": {
      "text/plain": [
       "dict_keys(['1Day OFF LH Move 180sec', '1Day OFF Rest 180sec', '1Day OFF RH Move 180sec', '1Day ON LH Move 180sec', '1Day ON Rest 180sec', '1Day ON RH Move 180sec', '5Day OFF LH Move 180sec', '5Day OFF Rest 180sec', '5Day OFF RH Move 180sec', '5Day ON LH Move 180sec', '5Day ON Rest 180sec', '5Day ON RH Move 180sec'])"
      ]
     },
     "execution_count": 4,
     "metadata": {},
     "output_type": "execute_result"
    }
   ],
   "source": []
  },
  {
   "cell_type": "code",
   "execution_count": null,
   "id": "9641d39d-a50a-4f61-b555-2c74642fcdaf",
   "metadata": {},
   "outputs": [],
   "source": []
  }
 ],
 "metadata": {
  "kernelspec": {
   "display_name": "Python 3 (ipykernel)",
   "language": "python",
   "name": "python3"
  },
  "language_info": {
   "codemirror_mode": {
    "name": "ipython",
    "version": 3
   },
   "file_extension": ".py",
   "mimetype": "text/x-python",
   "name": "python",
   "nbconvert_exporter": "python",
   "pygments_lexer": "ipython3",
   "version": "3.8.11"
  }
 },
 "nbformat": 4,
 "nbformat_minor": 5
}
