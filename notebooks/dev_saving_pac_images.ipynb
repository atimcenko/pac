{
 "cells": [
  {
   "cell_type": "code",
   "execution_count": 1,
   "id": "06541f07-6476-4e54-9d7a-ebbb247a01c3",
   "metadata": {},
   "outputs": [
    {
     "name": "stdout",
     "output_type": "stream",
     "text": [
      "Succesfully imported libraries and modules\n",
      "\n"
     ]
    }
   ],
   "source": [
    "%run ../scripts/imports.py\n",
    "\n",
    "with open(\"../path_data.txt\") as f:\n",
    "    data_dir = f.readline()"
   ]
  },
  {
   "cell_type": "markdown",
   "id": "4c9e268e-eb12-4090-a46a-4ae3dfcf6727",
   "metadata": {},
   "source": [
    "## Loading patients"
   ]
  },
  {
   "cell_type": "code",
   "execution_count": 5,
   "id": "18803d69-a895-4a6d-bf9f-b7af106489d1",
   "metadata": {},
   "outputs": [
    {
     "name": "stdout",
     "output_type": "stream",
     "text": [
      "Patient directory:  C:\\Users\\aleks\\Downloads\\data_pac\\Patient9\n"
     ]
    }
   ],
   "source": [
    "# p1 = load_patient(1, data_dir)\n",
    "# p2 = load_patient(2, data_dir)\n",
    "# p3 = load_patient(3, data_dir)\n",
    "# p4 = load_patient(4, data_dir)\n",
    "# p5 = load_patient(5, data_dir)\n",
    "# p6 = load_patient(6, data_dir)\n",
    "# p7 = load_patient(7, data_dir)\n",
    "# p8 = load_patient(8, data_dir)\n",
    "p9 = load_patient(9, data_dir)"
   ]
  },
  {
   "cell_type": "markdown",
   "id": "f1441d68-88fa-466d-a9e9-d0914eae9e5a",
   "metadata": {},
   "source": [
    "Create 'im' directory in each patient data folder"
   ]
  },
  {
   "cell_type": "code",
   "execution_count": 3,
   "id": "9a3906f8-a456-4505-8b42-d95f980d0dd0",
   "metadata": {},
   "outputs": [],
   "source": [
    "with open(\"../path_data.txt\", \"r\") as f:\n",
    "    data_dir = f.readline()\n",
    "\n",
    "for i_patient in range(7, 10):\n",
    "    try:\n",
    "        os.mkdir(os.path.join(data_dir, f\"Patient{i_patient}\", \"im\"))\n",
    "    except:\n",
    "        continue"
   ]
  },
  {
   "cell_type": "markdown",
   "id": "b57cd15b-ae51-41a4-976c-c549d33a5bd2",
   "metadata": {},
   "source": [
    "## Saving diagonal PAC images (all patients)"
   ]
  },
  {
   "cell_type": "code",
   "execution_count": 6,
   "id": "b94d7f89-e39e-4cfb-a254-570bcbda631f",
   "metadata": {},
   "outputs": [
    {
     "data": {
      "application/vnd.jupyter.widget-view+json": {
       "model_id": "f9da4febbbf54945a43cd809e7e9552b",
       "version_major": 2,
       "version_minor": 0
      },
      "text/plain": [
       "  0%|          | 0/1 [00:00<?, ?it/s]"
      ]
     },
     "metadata": {},
     "output_type": "display_data"
    },
    {
     "ename": "AttributeError",
     "evalue": "'dict' object has no attribute 'pac_matrix'",
     "output_type": "error",
     "traceback": [
      "\u001b[1;31m---------------------------------------------------------------------------\u001b[0m",
      "\u001b[1;31mAttributeError\u001b[0m                            Traceback (most recent call last)",
      "\u001b[1;32m~\\AppData\\Local\\Temp/ipykernel_42276/939227566.py\u001b[0m in \u001b[0;36m<module>\u001b[1;34m\u001b[0m\n\u001b[0;32m     26\u001b[0m                 \u001b[0mtitle\u001b[0m \u001b[1;33m=\u001b[0m \u001b[1;34mf\"{ldopa}\"\u001b[0m  \u001b[1;31m# without 180sec\u001b[0m\u001b[1;33m\u001b[0m\u001b[1;33m\u001b[0m\u001b[0m\n\u001b[0;32m     27\u001b[0m                 \u001b[0max\u001b[0m\u001b[1;33m.\u001b[0m\u001b[0mset_title\u001b[0m\u001b[1;33m(\u001b[0m\u001b[0mtitle\u001b[0m\u001b[1;33m)\u001b[0m\u001b[1;33m\u001b[0m\u001b[1;33m\u001b[0m\u001b[0m\n\u001b[1;32m---> 28\u001b[1;33m                 \u001b[0msig_pac\u001b[0m \u001b[1;33m=\u001b[0m \u001b[0mget_sig_pac\u001b[0m\u001b[1;33m(\u001b[0m\u001b[0mpac\u001b[0m\u001b[1;33m,\u001b[0m \u001b[0msignificance\u001b[0m\u001b[1;33m=\u001b[0m\u001b[1;36m0.05\u001b[0m\u001b[1;33m)\u001b[0m\u001b[1;33m\u001b[0m\u001b[1;33m\u001b[0m\u001b[0m\n\u001b[0m\u001b[0;32m     29\u001b[0m                 im = comodulogram(sig_pac, \n\u001b[0;32m     30\u001b[0m                              \u001b[0mpac\u001b[0m\u001b[1;33m.\u001b[0m\u001b[0mbeta_params\u001b[0m\u001b[1;33m,\u001b[0m\u001b[1;33m\u001b[0m\u001b[1;33m\u001b[0m\u001b[0m\n",
      "\u001b[1;32m~\\git\\pac\\scripts\\utils_bigraph.py\u001b[0m in \u001b[0;36mget_sig_pac\u001b[1;34m(pac, significance, mask_lonely, min_cluster_size)\u001b[0m\n\u001b[0;32m     71\u001b[0m \u001b[1;33m\u001b[0m\u001b[0m\n\u001b[0;32m     72\u001b[0m \u001b[1;32mdef\u001b[0m \u001b[0mget_sig_pac\u001b[0m\u001b[1;33m(\u001b[0m\u001b[0mpac\u001b[0m\u001b[1;33m,\u001b[0m \u001b[0msignificance\u001b[0m\u001b[1;33m=\u001b[0m\u001b[1;36m0.01\u001b[0m\u001b[1;33m,\u001b[0m \u001b[0mmask_lonely\u001b[0m\u001b[1;33m=\u001b[0m\u001b[1;32mTrue\u001b[0m\u001b[1;33m,\u001b[0m \u001b[0mmin_cluster_size\u001b[0m\u001b[1;33m=\u001b[0m\u001b[1;36m3\u001b[0m\u001b[1;33m)\u001b[0m\u001b[1;33m:\u001b[0m\u001b[1;33m\u001b[0m\u001b[1;33m\u001b[0m\u001b[0m\n\u001b[1;32m---> 73\u001b[1;33m     \u001b[0msig_pac\u001b[0m \u001b[1;33m=\u001b[0m \u001b[0mpac\u001b[0m\u001b[1;33m.\u001b[0m\u001b[0mpac_matrix\u001b[0m\u001b[1;33m.\u001b[0m\u001b[0mcopy\u001b[0m\u001b[1;33m(\u001b[0m\u001b[1;33m)\u001b[0m\u001b[1;33m\u001b[0m\u001b[1;33m\u001b[0m\u001b[0m\n\u001b[0m\u001b[0;32m     74\u001b[0m     \u001b[0msig_pac\u001b[0m\u001b[1;33m[\u001b[0m\u001b[0mpac\u001b[0m\u001b[1;33m.\u001b[0m\u001b[0mpvalues\u001b[0m \u001b[1;33m>\u001b[0m \u001b[0msignificance\u001b[0m\u001b[1;33m]\u001b[0m \u001b[1;33m=\u001b[0m \u001b[1;36m0\u001b[0m\u001b[1;33m\u001b[0m\u001b[1;33m\u001b[0m\u001b[0m\n\u001b[0;32m     75\u001b[0m     \u001b[1;32mif\u001b[0m \u001b[0mmask_lonely\u001b[0m\u001b[1;33m:\u001b[0m\u001b[1;33m\u001b[0m\u001b[1;33m\u001b[0m\u001b[0m\n",
      "\u001b[1;31mAttributeError\u001b[0m: 'dict' object has no attribute 'pac_matrix'"
     ]
    },
    {
     "data": {
      "image/png": "[encoded data removed]",
      "text/plain": [
       "<Figure size 792x324 with 2 Axes>"
      ]
     },
     "metadata": {},
     "output_type": "display_data"
    }
   ],
   "source": [
    "%matplotlib inline\n",
    "sns.set(context='notebook')\n",
    "\n",
    "patients = [p9]\n",
    "days = [1, 5]\n",
    "\n",
    "for patient in tqdm(patients, total=len(patients)):\n",
    "    for day in days:\n",
    "        conditions = [f\"{day}Day OFF Rest 180sec\", f\"{day}Day ON Rest 180sec\"]\n",
    "        folder = os.path.join(patient.root_dir, \"im\", f\"{day}day_OFFvsON\", \"pac_diag\")\n",
    "        try:\n",
    "            os.makedirs(folder)\n",
    "        except:\n",
    "            pass\n",
    "        counter = 1\n",
    "        for i, placement in enumerate(patient.sorted_placements):\n",
    "            fig, axes = plt.subplots(1, 2, figsize=(11, 4.5))\n",
    "            for j, condition in enumerate(conditions):\n",
    "                day, ldopa, movement = retrieve_condition_name(condition)\n",
    "                if condition not in patient.conditions:\n",
    "                    continue\n",
    "                lfp = patient.lfp[condition][placement]\n",
    "                pac = patient.pac[condition][placement][placement]\n",
    "                ax = axes[j]\n",
    "                day, ldopa, movement = retrieve_condition_name(condition)\n",
    "                title = f\"{ldopa}\"  # without 180sec\n",
    "                ax.set_title(title)\n",
    "                sig_pac = get_sig_pac(pac, significance=0.05)\n",
    "                im = comodulogram(sig_pac, \n",
    "                             pac.beta_params, \n",
    "                             pac.hfo_params, \n",
    "                             pvalues=pac.pvalues, \n",
    "                             significant=True, significance=0.05,\n",
    "                             vmax=0.0005, smooth=True,\n",
    "                             ax=ax)\n",
    "                ax.set_xlabel(r\"$f_p$, Hz\")\n",
    "                ax.set_ylabel(r\"$f_A$, Hz\", rotation=0, labelpad=20)\n",
    "                cbar = fig.colorbar(im, ax=ax)\n",
    "                cbar.formatter.set_powerlimits((0, 0))\n",
    "                ax.grid()\n",
    "            plt.suptitle(f\"PAC; {patient.name}; {day}; {movement}; {placement}\")\n",
    "            plt.tight_layout()\n",
    "            number = str(counter//100) + str(counter//10) + str(counter % 10) \n",
    "            fig_name = f\"{number}.P{patient.name[-1]}_PAC_OFFvsON_{placement}.png\"\n",
    "\n",
    "            plt.savefig(os.path.join(patient.root_dir, \"im\", folder, fig_name), dpi=150);\n",
    "            plt.close(fig)\n",
    "            counter += 1"
   ]
  },
  {
   "cell_type": "markdown",
   "id": "6cc99f1e-69e4-418f-a84e-5456553566b4",
   "metadata": {},
   "source": [
    "### Developing parallel beta and HFO power visualization"
   ]
  },
  {
   "cell_type": "code",
   "execution_count": null,
   "id": "b389896f-551c-4d78-ab74-cfcbb5b3d7db",
   "metadata": {},
   "outputs": [],
   "source": [
    "condition = '5Day OFF Rest 180sec'\n",
    "placement = 'R3C-3B'\n",
    "patient = p8\n",
    "\n",
    "lfp = patient.lfp[condition][placement]\n",
    "pac = patient.pac[condition][placement][placement]\n",
    "\n"
   ]
  },
  {
   "cell_type": "markdown",
   "id": "e610991a-f960-479e-b98b-7163e8cec1f1",
   "metadata": {},
   "source": [
    "## Saving movement-related PAC images\n",
    "\n",
    "Rest vs RH vs LH\n",
    "\n",
    "ON vs OFF"
   ]
  },
  {
   "cell_type": "code",
   "execution_count": 30,
   "id": "2bbad482-b02a-4406-9407-ef8e240a4282",
   "metadata": {},
   "outputs": [
    {
     "data": {
      "image/png": "[encoded data removed]",
      "text/plain": [
       "<Figure size 1152x648 with 12 Axes>"
      ]
     },
     "metadata": {},
     "output_type": "display_data"
    }
   ],
   "source": [
    "# patient = p1\n",
    "# day = 1\n",
    "# placement = \"R2A-3A\"\n",
    "# example image:\n",
    "# |||\n",
    "# VVV"
   ]
  },
  {
   "cell_type": "code",
   "execution_count": 33,
   "id": "001d2507-4d70-4555-b7d9-55d879581c07",
   "metadata": {},
   "outputs": [
    {
     "data": {
      "application/vnd.jupyter.widget-view+json": {
       "model_id": "ffc4137fd213488bbf0c2adae47b554c",
       "version_major": 2,
       "version_minor": 0
      },
      "text/plain": [
       "  0%|          | 0/6 [00:00<?, ?it/s]"
      ]
     },
     "metadata": {},
     "output_type": "display_data"
    }
   ],
   "source": [
    "patients = [p1, p2, p3, p4, p5, p6]\n",
    "days = [1, 5]\n",
    "ldopas = ['OFF', 'ON']\n",
    "movements = [\"Rest 180sec\", \"RH Move 180sec\", \"LH Move 180sec\"]\n",
    "mov_to_title = {\"Rest\": \"Rest\", \"RH\": \"Right Hand\", \"LH\": \"Left Hand\"}\n",
    "\n",
    "for patient in tqdm(patients, total=len(patients)):\n",
    "    for day in days:\n",
    "        folder = os.path.join(patient.root_dir, \"im\", f\"{day}day_movement_offvson\")\n",
    "        try:\n",
    "            os.makedirs(folder)\n",
    "        except:\n",
    "            pass\n",
    "        counter = 1\n",
    "        for placement in patient.sorted_placements:\n",
    "            fig, axes = plt.subplots(2, 3, figsize=(16, 9))\n",
    "            for i, ldopa in enumerate(ldopas):\n",
    "                for j, movement in enumerate(movements):\n",
    "                    condition = create_condition_name(str(day) + \"Day\", ldopa, movement)\n",
    "                    if condition not in patient.conditions:\n",
    "                        continue\n",
    "                    lfp = patient.lfp[condition][placement]\n",
    "                    pac = patient.pac[condition][placement][placement]\n",
    "                    ax = axes[i, j]\n",
    "\n",
    "                    mov = movement.split(\" \")[0]\n",
    "\n",
    "                    title = f\"{ldopa}; {mov_to_title[mov]}\"  # without 180sec\n",
    "                    ax.set_title(title)\n",
    "                    sig_pac = get_sig_pac(pac, significance=0.01)\n",
    "                    im = comodulogram(sig_pac, \n",
    "                                 pac.beta_params, \n",
    "                                 pac.hfo_params, \n",
    "                                 pvalues=pac.pvalues, \n",
    "                                 significant=True, significance=0.01,\n",
    "                                 vmax=0.00025, smooth=True,\n",
    "                                 ax=ax)\n",
    "\n",
    "                    ax.set_xlabel(r\"$f_p$, Hz\")\n",
    "                    if j != 0: \n",
    "                        ax.set_ylabel(r\"$f_A$, Hz\", rotation=0, labelpad=20)\n",
    "                    else:\n",
    "                        ax.set_ylabel(ldopa, labelpad=30, fontsize=20, rotation=0)\n",
    "                    cbar = fig.colorbar(im, ax=ax)\n",
    "                    cbar.formatter.set_powerlimits((0, 0))\n",
    "                    ax.grid()\n",
    "            plt.suptitle(f\"Movement-related PAC; {patient.name}; Day {day}; {placement}\")\n",
    "            plt.tight_layout()\n",
    "            number = str(counter//100) + str(counter//10) + str(counter % 10) \n",
    "            fig_name = f\"{number}.P{patient.name[-1]}_PAC_movement_OFFvsON_{placement}.png\"\n",
    "\n",
    "            plt.savefig(os.path.join(patient.root_dir, \"im\", folder, fig_name), dpi=150);\n",
    "            plt.close(fig)\n",
    "            counter += 1"
   ]
  },
  {
   "cell_type": "markdown",
   "id": "90ffa9f7-d0cc-4fd8-9db9-bad8a963b30d",
   "metadata": {},
   "source": [
    "## Saving cross-PAC images"
   ]
  },
  {
   "cell_type": "markdown",
   "id": "ade4fa69-e9c6-4cff-a7b0-f646a9477ede",
   "metadata": {},
   "source": [
    "### Unified code for all days and patients"
   ]
  },
  {
   "cell_type": "code",
   "execution_count": 85,
   "id": "f9f1589b-1ef6-487b-9902-16367f458dbf",
   "metadata": {},
   "outputs": [
    {
     "data": {
      "application/vnd.jupyter.widget-view+json": {
       "model_id": "b8707966be814d2083423373c4fc813b",
       "version_major": 2,
       "version_minor": 0
      },
      "text/plain": [
       "0it [00:00, ?it/s]"
      ]
     },
     "metadata": {},
     "output_type": "display_data"
    }
   ],
   "source": [
    "patient = p3\n",
    "day = 5\n",
    "\n",
    "%matplotlib inline\n",
    "sns.set(context='notebook')\n",
    "\n",
    "conditions = [f\"{day}Day OFF Rest 180sec\", f\"{day}Day ON Rest 180sec\"]\n",
    "placements = patient.sorted_placements\n",
    "folder = os.path.join(patient.root_dir, \"im\", f\"{day}dayOFFvsON_cross_pac\")\n",
    "try:\n",
    "    os.mkdir(folder)\n",
    "except:\n",
    "    pass\n",
    "\n",
    "counter = 0\n",
    "for pi, pj in tqdm(combinations(placements, 2)):\n",
    "    \n",
    "        if not pac_exists(patient, conditions[0], pi, pj):\n",
    "                continue\n",
    "        if not pac_exists(patient, conditions[0], pj, pi):\n",
    "                continue      \n",
    "                \n",
    "        fig, axes = plt.subplots(2, 2, figsize=(11, 8))\n",
    "        for j, condition in enumerate(conditions):\n",
    "            \n",
    "            phase, amplitude = pi, pj\n",
    "            pac = patient.pac[condition][phase][amplitude]\n",
    "            ax = axes[0, j]\n",
    "            title = \"PAC; \" + condition[:-7] + '; p-' + phase + ' a-' + amplitude  # without 180sec\n",
    "            ax.set_title(title)\n",
    "            #lfp.show_psd()\n",
    "            sig_pac = get_sig_pac(pac, significance=0.01)\n",
    "            im = comodulogram(sig_pac, \n",
    "                         pac.beta_params, \n",
    "                         pac.hfo_params, \n",
    "                         pvalues=pac.pvalues, \n",
    "                         significant=True, significance=0.01,\n",
    "                         vmax=0.00025, smooth=True,\n",
    "                         ax=ax)\n",
    "            ax.set_xlabel(r\"$f_p$, Hz\")\n",
    "            ax.set_ylabel(r\"$f_A$, Hz\", rotation=0, labelpad=20)\n",
    "            cbar = fig.colorbar(im, ax=ax)\n",
    "            cbar.formatter.set_powerlimits((0, 0))\n",
    "            ax.grid()\n",
    "            \n",
    "            \"\"\" Switched phase and amplitude\"\"\"\n",
    "            phase, amplitude = pj, pi\n",
    "            pac = patient.pac[condition][phase][amplitude]\n",
    "            ax = axes[1, j]\n",
    "            title = \"PAC; \" + condition[:-7] + '; p-' + phase + ' a-' + amplitude  # without 180sec\n",
    "            ax.set_title(title)\n",
    "            #lfp.show_psd()\n",
    "            sig_pac = get_sig_pac(pac, significance=0.01)\n",
    "            im = comodulogram(sig_pac, \n",
    "                         pac.beta_params, \n",
    "                         pac.hfo_params, \n",
    "                         pvalues=pac.pvalues, \n",
    "                         significant=True, significance=0.01,\n",
    "                         vmax=0.00025, smooth=True,\n",
    "                         ax=ax)\n",
    "            ax.set_xlabel(r\"$f_p$, Hz\")\n",
    "            ax.set_ylabel(r\"$f_A$, Hz\", rotation=0, labelpad=20)\n",
    "            cbar = fig.colorbar(im, ax=ax)\n",
    "            cbar.formatter.set_powerlimits((0, 0))\n",
    "            ax.grid()\n",
    "            \n",
    "            \n",
    "        plt.tight_layout()\n",
    "        counter += 1\n",
    "        number = str(counter//100) + str(counter//10) + str(counter % 10)\n",
    "        fig_name = f\"{number}.P{patient.name[-1]}_{day}day_PAC_OFFvsON_{phase}_{amplitude}.png\"\n",
    "        plt.savefig(os.path.join(patient.root_dir, \"im\", folder, fig_name), dpi=150);\n",
    "        plt.close(fig)"
   ]
  },
  {
   "cell_type": "markdown",
   "id": "5c3a6a0c-12f0-4812-9cff-6ef2a936be38",
   "metadata": {},
   "source": [
    "#### Loop through all patients (save cross-PAC images)"
   ]
  },
  {
   "cell_type": "code",
   "execution_count": 7,
   "id": "59fd513c-3174-40aa-b3a6-2859b7e46d27",
   "metadata": {},
   "outputs": [
    {
     "name": "stdout",
     "output_type": "stream",
     "text": [
      "Patient9\n",
      "Day 1\n"
     ]
    },
    {
     "data": {
      "application/vnd.jupyter.widget-view+json": {
       "model_id": "4857e326683c4948b0d3751195953967",
       "version_major": 2,
       "version_minor": 0
      },
      "text/plain": [
       "0it [00:00, ?it/s]"
      ]
     },
     "metadata": {},
     "output_type": "display_data"
    },
    {
     "name": "stdout",
     "output_type": "stream",
     "text": [
      "Day 5\n"
     ]
    },
    {
     "data": {
      "application/vnd.jupyter.widget-view+json": {
       "model_id": "f7eb4afd9f494bb2a24ac91462800256",
       "version_major": 2,
       "version_minor": 0
      },
      "text/plain": [
       "0it [00:00, ?it/s]"
      ]
     },
     "metadata": {},
     "output_type": "display_data"
    }
   ],
   "source": [
    "%matplotlib inline\n",
    "sns.set(context='notebook')\n",
    "\n",
    "patients = [p9]\n",
    "significance = 0.05\n",
    "\n",
    "for patient in patients:\n",
    "    print(patient.name)\n",
    "    for day in [1, 5]:\n",
    "        print(f\"Day {day}\")\n",
    "\n",
    "        conditions = [f\"{day}Day OFF Rest 180sec\", f\"{day}Day ON Rest 180sec\"]\n",
    "        placements = patient.sorted_placements\n",
    "        folder = os.path.join(patient.root_dir, \"im\", f\"{day}dayOFFvsON_cross_pac\")\n",
    "        try:\n",
    "            os.mkdir(folder)\n",
    "        except:\n",
    "            pass\n",
    "\n",
    "        counter = 0\n",
    "        for pi, pj in tqdm(combinations(placements, 2)):\n",
    "\n",
    "                if not pac_exists(patient, conditions[0], pi, pj):\n",
    "                        continue\n",
    "                if not pac_exists(patient, conditions[0], pj, pi):\n",
    "                        continue\n",
    "                if not pac_exists(patient, conditions[1], pi, pj):\n",
    "                        continue\n",
    "                if not pac_exists(patient, conditions[1], pj, pi):\n",
    "                        continue\n",
    "\n",
    "                fig, axes = plt.subplots(2, 2, figsize=(11, 8))\n",
    "                for j, condition in enumerate(conditions):\n",
    "\n",
    "                    phase, amplitude = pi, pj\n",
    "                    pac = patient.pac[condition][phase][amplitude]\n",
    "                    ax = axes[0, j]\n",
    "                    title = \"PAC; \" + condition[:-7] + '; p-' + phase + ' a-' + amplitude  # without 180sec\n",
    "                    ax.set_title(title)\n",
    "                    #lfp.show_psd()\n",
    "                    sig_pac = get_sig_pac(pac, significance=significance)\n",
    "                    im = comodulogram(sig_pac, \n",
    "                                 pac.beta_params, \n",
    "                                 pac.hfo_params, \n",
    "                                 pvalues=pac.pvalues, \n",
    "                                 significant=True, significance=significance,\n",
    "                                 vmax=0.00025, smooth=True,\n",
    "                                 ax=ax)\n",
    "                    ax.set_xlabel(r\"$f_p$, Hz\")\n",
    "                    ax.set_ylabel(r\"$f_A$, Hz\", rotation=0, labelpad=20)\n",
    "                    cbar = fig.colorbar(im, ax=ax)\n",
    "                    cbar.formatter.set_powerlimits((0, 0))\n",
    "                    ax.grid()\n",
    "\n",
    "                    \"\"\" Switched phase and amplitude\"\"\"\n",
    "                    phase, amplitude = pj, pi\n",
    "                    pac = patient.pac[condition][phase][amplitude]\n",
    "                    ax = axes[1, j]\n",
    "                    title = \"PAC; \" + condition[:-7] + '; p-' + phase + ' a-' + amplitude  # without 180sec\n",
    "                    ax.set_title(title)\n",
    "                    #lfp.show_psd()\n",
    "                    sig_pac = get_sig_pac(pac, significance=0.01, mask_lonely=True, min_cluster_size=3)\n",
    "                    im = comodulogram(sig_pac, \n",
    "                                 pac.beta_params, \n",
    "                                 pac.hfo_params, \n",
    "                                 pvalues=pac.pvalues, \n",
    "                                 significant=True, significance=0.01,\n",
    "                                 vmax=0.00025, smooth=True,\n",
    "                                 ax=ax)\n",
    "                    ax.set_xlabel(r\"$f_p$, Hz\")\n",
    "                    ax.set_ylabel(r\"$f_A$, Hz\", rotation=0, labelpad=20)\n",
    "                    cbar = fig.colorbar(im, ax=ax)\n",
    "                    cbar.formatter.set_powerlimits((0, 0))\n",
    "                    ax.grid()\n",
    "\n",
    "\n",
    "                plt.tight_layout()\n",
    "                counter += 1\n",
    "                number = str(counter//100) + str(counter//10) + str(counter % 10)\n",
    "                fig_name = f\"{number}.P{patient.name[-1]}_{day}day_PAC_OFFvsON_{phase}_{amplitude}.png\"\n",
    "                plt.savefig(os.path.join(patient.root_dir, \"im\", folder, fig_name), dpi=250);\n",
    "                plt.close(fig)"
   ]
  },
  {
   "cell_type": "markdown",
   "id": "d8f89fbc-0f80-4ebf-b125-17348f7d2564",
   "metadata": {},
   "source": []
  }
 ],
 "metadata": {
  "kernelspec": {
   "display_name": "Python 3 (ipykernel)",
   "language": "python",
   "name": "python3"
  },
  "language_info": {
   "codemirror_mode": {
    "name": "ipython",
    "version": 3
   },
   "file_extension": ".py",
   "mimetype": "text/x-python",
   "name": "python",
   "nbconvert_exporter": "python",
   "pygments_lexer": "ipython3",
   "version": "3.8.11"
  }
 },
 "nbformat": 4,
 "nbformat_minor": 5
}
