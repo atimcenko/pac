{
 "cells": [
  {
   "cell_type": "markdown",
   "id": "7c14bde4-125f-4897-acef-5adc505c7b06",
   "metadata": {
    "tags": []
   },
   "source": [
    "# Imports"
   ]
  },
  {
   "cell_type": "code",
   "execution_count": 1,
   "id": "20ae93af-0f3c-4525-8ea5-8bc58a501cb9",
   "metadata": {},
   "outputs": [],
   "source": [
    "import numpy as np\n",
    "from numba import jit, njit, prange\n",
    "import mne\n",
    "from scipy.fftpack import fft, ifft, fftfreq\n",
    "from scipy.stats import binned_statistic, entropy\n",
    "from scipy import signal\n",
    "import matplotlib.pyplot as plt\n",
    "import time\n",
    "import dill as pickle\n",
    "from tqdm import tqdm"
   ]
  },
  {
   "cell_type": "markdown",
   "id": "700dd465-78ef-4522-bf13-8e3c6557d443",
   "metadata": {},
   "source": [
    "# Utility"
   ]
  },
  {
   "cell_type": "code",
   "execution_count": 2,
   "id": "16157ef6-a72c-406e-88d6-63fee333106f",
   "metadata": {},
   "outputs": [],
   "source": [
    "\n",
    "\n",
    "def load_patient_from_pickle(filepath):\n",
    "    with open(filepath, 'rb') as f:\n",
    "        patient = pickle.load(f, pickle.HIGHEST_PROTOCOL)\n",
    "    patient.pac = defaultdict(lambda: defaultdict(lambda: defaultdict(dict)))\n",
    "    return patient\n",
    "\n",
    "    \n",
    "def generate_coupled_signal(f_p, f_a, K_p, K_a, xi, timepoints, noise_level=0.1, phase=0, noise_type='pink', alpha=1):\n",
    "    \n",
    "    x_fp = K_p * np.sin(2 * np.pi * f_p * timepoints)\n",
    "    A_fa = K_a/2 * ((1 - xi) * np.sin(2 * np.pi * f_p * timepoints + phase) + xi + 1)\n",
    "    x_fa = A_fa * np.sin(2 * np.pi * f_a * timepoints)\n",
    "    \n",
    "    n = len(timepoints)\n",
    "    \n",
    "    if noise_type == 'white-gaussian':\n",
    "        noise = np.random.normal(scale=noise_level, size=n)\n",
    "    \n",
    "    if noise_type == 'white-uniform':\n",
    "        noise = np.random.uniform(low=-noise_level, high=noise_level, size=n)\n",
    "        \n",
    "    if noise_type == 'pink':\n",
    "        noise = np.random.normal(scale=noise_level, size=n)\n",
    "        \n",
    "        noise_spectrum = fft(noise)\n",
    "        freqs = fftfreq(n, timepoints[1] - timepoints[0])\n",
    "\n",
    "        oneOverF = np.insert((1/(freqs[1:]**alpha)), 0, 0)\n",
    "        new_spectrum = oneOverF * noise_spectrum                    \n",
    "        noise = np.abs(ifft(new_spectrum))    \n",
    "    \n",
    "    x = x_fp + x_fa + noise\n",
    "    \n",
    "    return x"
   ]
  },
  {
   "cell_type": "markdown",
   "id": "3020fb3b-3a12-4fb3-a8ec-314f19448a4f",
   "metadata": {},
   "source": [
    "# Creating signal"
   ]
  },
  {
   "cell_type": "code",
   "execution_count": 3,
   "id": "8ba7d63e-da70-41d8-86c5-f8e8c923b408",
   "metadata": {},
   "outputs": [],
   "source": [
    "sf = 2000\n",
    "T = 180\n",
    "timepoints = np.arange(0, T, 1/sf)\n",
    "\n",
    "X = generate_coupled_signal(10, 150, 10, 1, 0.1, timepoints, phase=np.pi/4)"
   ]
  },
  {
   "cell_type": "code",
   "execution_count": 4,
   "id": "e87aeefe-8d82-4650-870e-20a887e7ce31",
   "metadata": {},
   "outputs": [
    {
     "name": "stdout",
     "output_type": "stream",
     "text": [
      "Setting up band-pass filter from 9 - 11 Hz\n",
      "\n",
      "FIR filter parameters\n",
      "---------------------\n",
      "Designing a one-pass, zero-phase, non-causal bandpass filter:\n",
      "- Windowed time-domain design (firwin) method\n",
      "- Hamming window with 0.0194 passband ripple and 53 dB stopband attenuation\n",
      "- Lower passband edge: 9.00\n",
      "- Lower transition bandwidth: 2.25 Hz (-6 dB cutoff frequency: 7.88 Hz)\n",
      "- Upper passband edge: 11.00 Hz\n",
      "- Upper transition bandwidth: 2.75 Hz (-6 dB cutoff frequency: 12.38 Hz)\n",
      "- Filter length: 2935 samples (1.468 sec)\n",
      "\n",
      "Setting up band-pass filter from 1.3e+02 - 1.5e+02 Hz\n",
      "\n",
      "FIR filter parameters\n",
      "---------------------\n",
      "Designing a one-pass, zero-phase, non-causal bandpass filter:\n",
      "- Windowed time-domain design (firwin) method\n",
      "- Hamming window with 0.0194 passband ripple and 53 dB stopband attenuation\n",
      "- Lower passband edge: 130.00\n",
      "- Lower transition bandwidth: 32.50 Hz (-6 dB cutoff frequency: 113.75 Hz)\n",
      "- Upper passband edge: 150.00 Hz\n",
      "- Upper transition bandwidth: 37.50 Hz (-6 dB cutoff frequency: 168.75 Hz)\n",
      "- Filter length: 205 samples (0.102 sec)\n",
      "\n"
     ]
    }
   ],
   "source": [
    "beta_phase = np.angle(signal.hilbert(mne.filter.filter_data(X, sf, 9, 11, )), deg=True)\n",
    "hfo_amplitude = np.abs(signal.hilbert(mne.filter.filter_data(X, sf, 130, 150)))"
   ]
  },
  {
   "cell_type": "code",
   "execution_count": 5,
   "id": "38ffc3d5-1e5e-46fa-b141-624395f69472",
   "metadata": {},
   "outputs": [
    {
     "name": "stdout",
     "output_type": "stream",
     "text": [
      "(24, 44, 360000)\n",
      "(24, 44, 360000)\n",
      "float64\n"
     ]
    }
   ],
   "source": [
    "n_beta, n_hfo = 44, 24\n",
    "\n",
    "hfo_matrix = np.array([[hfo_amplitude for i in range(n_beta)] for j in range(n_hfo)])\n",
    "beta_matrix = np.array([[beta_phase for i in range(n_beta)] for j in range(n_hfo)])\n",
    "\n",
    "print(beta_matrix.shape)\n",
    "print(hfo_matrix.shape)\n",
    "\n",
    "print(beta_matrix.dtype)"
   ]
  },
  {
   "cell_type": "markdown",
   "id": "7a27fc8a-edc5-4406-8ac6-bded579cd340",
   "metadata": {},
   "source": [
    "# Optimization"
   ]
  },
  {
   "cell_type": "markdown",
   "id": "2608d36d-a92a-445b-b1f2-e55586207c12",
   "metadata": {},
   "source": [
    "## calculate_single_PAC"
   ]
  },
  {
   "cell_type": "code",
   "execution_count": 6,
   "id": "2ace3214-8ee1-4a5f-a129-11f608e776c3",
   "metadata": {},
   "outputs": [],
   "source": [
    "# my binned statistic - takes phase and amplitude\n",
    "\n",
    "@njit(fastmath=True)\n",
    "def calculate_single_PAC_njit(beta_phase, hfo_amplitude):\n",
    "    \n",
    "    bins = np.arange(-180, 200, 20)\n",
    "    nbins = 18\n",
    "    \n",
    "    ind = np.searchsorted(bins, beta_phase, side='left') # this returns indexes of bins to which phase values correspond to\n",
    "    count = np.bincount(ind, None)\n",
    "    sum_value = np.bincount(ind, hfo_amplitude)\n",
    "    mean_value = sum_value[1:] / count[1:]\n",
    "    \n",
    "    pk = mean_value / mean_value.sum()\n",
    "    qk = np.ones(nbins) / nbins\n",
    "    KL = (pk * np.log(pk / qk)).sum()\n",
    "    return KL\n",
    "# kl = S = sum(pk * log(pk / qk)\n",
    "\n",
    "def calculate_single_PAC(beta_phase, hfo_amplitude):\n",
    "    bins = np.arange(-180, 200, 20)\n",
    "    nbins = len(bins) -1\n",
    "    PA_distr = binned_statistic(beta_phase, hfo_amplitude, statistic='mean', bins=bins).statistic\n",
    "\n",
    "    PA_distr = PA_distr/np.sum(PA_distr)\n",
    "\n",
    "    uniform_distr = np.ones(nbins) / nbins\n",
    "\n",
    "    MI = entropy(PA_distr, uniform_distr)\n",
    "    return MI"
   ]
  },
  {
   "cell_type": "code",
   "execution_count": 7,
   "id": "4bf670d5-c441-42b8-b1c6-7b64d49f1465",
   "metadata": {},
   "outputs": [
    {
     "name": "stdout",
     "output_type": "stream",
     "text": [
      "1.924154399999999\n",
      "0.004201900000001757\n"
     ]
    }
   ],
   "source": [
    "t0 = time.perf_counter()\n",
    "\n",
    "res_njit = calculate_single_PAC_njit(beta_phase, hfo_amplitude)\n",
    "    \n",
    "t_njit = time.perf_counter() - t0\n",
    "print(t_njit)\n",
    "\n",
    "t0 = time.perf_counter()\n",
    "\n",
    "res_njit = calculate_single_PAC_njit(beta_phase, hfo_amplitude)\n",
    "    \n",
    "t_njit = time.perf_counter() - t0\n",
    "print(t_njit)\n"
   ]
  },
  {
   "cell_type": "code",
   "execution_count": 8,
   "id": "d7e0edb4-e950-4c64-8aea-54a3bc04fc26",
   "metadata": {},
   "outputs": [
    {
     "name": "stdout",
     "output_type": "stream",
     "text": [
      "0.03143559999999823\n"
     ]
    }
   ],
   "source": [
    "t0 = time.perf_counter()\n",
    "\n",
    "res_py = calculate_single_PAC(beta_phase, hfo_amplitude)\n",
    "    \n",
    "t_python = time.perf_counter() - t0\n",
    "print(t_python)"
   ]
  },
  {
   "cell_type": "markdown",
   "id": "bb0bb91b-47a0-4a00-bc04-f60268c0f162",
   "metadata": {},
   "source": [
    "## calculate_PAC_matrix"
   ]
  },
  {
   "cell_type": "code",
   "execution_count": 9,
   "id": "2ddc777b-0b18-4b05-bfea-c5b85a1ddd00",
   "metadata": {},
   "outputs": [],
   "source": [
    "@njit(fastmath=True, parallel=False)\n",
    "def calculate_PAC_matrix_njit(beta_matrix, hfo_matrix):\n",
    "    n_hfo, n_beta = np.shape(beta_matrix)[0], np.shape(beta_matrix)[1]\n",
    "    pac_matrix = np.zeros((n_hfo, n_beta))\n",
    "    for i in prange(n_hfo):\n",
    "        for j in prange(n_beta):\n",
    "            pac_matrix[i, j] = calculate_single_PAC_njit(beta_matrix[i, j], hfo_matrix[i, j])\n",
    "    return pac_matrix\n",
    "\n",
    "\n",
    "def calculate_PAC_matrix(beta_matrix, hfo_matrix):\n",
    "    n_hfo, n_beta = np.shape(beta_matrix)[0], np.shape(beta_matrix)[1]\n",
    "    pac_matrix = np.zeros((n_hfo, n_beta))\n",
    "    for i in range(n_hfo):\n",
    "        for j in range(n_beta):\n",
    "            pac_matrix[i, j] = calculate_single_PAC(beta_matrix[i, j], hfo_matrix[i, j])\n",
    "    return pac_matrix"
   ]
  },
  {
   "cell_type": "code",
   "execution_count": 10,
   "id": "cf3e1f48-c13a-4ae3-8b37-21d1699c644f",
   "metadata": {},
   "outputs": [
    {
     "name": "stdout",
     "output_type": "stream",
     "text": [
      "4.665914299999997\n",
      "4.023082299999999\n",
      "float64\n"
     ]
    }
   ],
   "source": [
    "t0 = time.perf_counter()\n",
    "\n",
    "pac_matrix_njit = calculate_PAC_matrix_njit(beta_matrix, hfo_matrix)\n",
    "    \n",
    "t_njit = time.perf_counter() - t0\n",
    "print(t_njit)\n",
    "\n",
    "t0 = time.perf_counter()\n",
    "\n",
    "pac_matrix_njit = calculate_PAC_matrix_njit(beta_matrix, hfo_matrix)\n",
    "    \n",
    "t_njit = time.perf_counter() - t0\n",
    "print(t_njit)\n",
    "\n",
    "print(pac_matrix_njit.dtype)"
   ]
  },
  {
   "cell_type": "code",
   "execution_count": 19,
   "id": "9c126f2f-60dc-4c5f-a980-9435ed857c26",
   "metadata": {},
   "outputs": [
    {
     "name": "stdout",
     "output_type": "stream",
     "text": [
      "36.53650974499999\n"
     ]
    }
   ],
   "source": [
    "t0 = time.perf_counter()\n",
    "\n",
    "pac_matrix_python = calculate_PAC_matrix(beta_matrix, hfo_matrix)\n",
    "    \n",
    "t_python = time.perf_counter() - t0\n",
    "print(t_python)"
   ]
  },
  {
   "cell_type": "markdown",
   "id": "a1c710ca-7047-44a2-8ea6-7acf0455d074",
   "metadata": {},
   "source": [
    "## shuffle_hfo_matrix"
   ]
  },
  {
   "cell_type": "code",
   "execution_count": 10,
   "id": "1a8b6440-0087-44dc-8fac-e40a43c6158d",
   "metadata": {},
   "outputs": [],
   "source": [
    "\n",
    "def shuffle_hfo_matrix(hfo_matrix, n_splits=3):\n",
    "    n_hfo, n_beta, n_times = hfo_matrix.shape\n",
    "    rand_idx = list(np.sort(np.random.randint(low=200, high=n_times-200, size=n_splits)))\n",
    "    rand_idx.insert(0, 0)\n",
    "    rand_idx.append(n_times)\n",
    "    subarrays = []\n",
    "    for i in range(n_splits+1):\n",
    "        subarrays.append(hfo_matrix[:, :, rand_idx[i]:rand_idx[i+1]])\n",
    "    np.random.shuffle(subarrays)\n",
    "    shuffled_hfo_matrix = np.concatenate(subarrays, axis=2)\n",
    "    return shuffled_hfo_matrix\n",
    "\n",
    "@njit(fastmath=True)\n",
    "def shuffle_hfo_matrix_njit(hfo_matrix, n_splits):   \n",
    "    n_hfo, n_beta, n_times = np.shape(hfo_matrix)\n",
    "    rand_idx = np.zeros(n_splits + 2)\n",
    "    rand_idx[1:n_splits+1] = np.sort(np.random.randint(200, n_times-200, n_splits))\n",
    "    rand_idx[n_splits] = n_times\n",
    "    shuffled_idx = np.random.permutation(np.arange(n_splits+1)) # e.g. [3, 1, 0, 2] - this is index of list\n",
    "    \n",
    "    # make sure shuffled array is not the same as input\n",
    "    while not np.abs(shuffled_idx - np.arange(n_splits+1)).sum():\n",
    "        shuffled_idx = np.random.permutation(np.arange(n_splits+1))\n",
    "        \n",
    "    j_left = shuffled_idx[0]\n",
    "    j_right = j_left + 1 \n",
    "    shuff = hfo_matrix[:, :, rand_idx[j_left]:rand_idx[j_right]]\n",
    "    for i in range(1, n_splits+1):\n",
    "        j_left  = shuffled_idx[i]\n",
    "        j_right = j_left + 1 \n",
    "        chunk = hfo_matrix[:, :, rand_idx[j_left]:rand_idx[j_right]]\n",
    "        shuff = np.concatenate((shuff, chunk), axis=2)\n",
    "    return shuff\n",
    "\n",
    "\n",
    "@njit(fastmath=True)\n",
    "def shuffle_hfo_matrix_njit_1split_concat(hfo_matrix, n_splits):\n",
    "    n_hfo, n_beta, n_times = np.shape(hfo_matrix)\n",
    "\n",
    "    rand_idx = np.random.randint(200, n_times-200)\n",
    "    chunk1 = hfo_matrix[:, :, :rand_idx] # len = rand_idx\n",
    "    chunk2 = hfo_matrix[:, :, rand_idx:] # len = n - rand_idx\n",
    "    \n",
    "    #shuff = np.zeros((n_hfo, n_beta, n_times), dtype=np.float64)\n",
    "    \n",
    "    #shuff[:, :, :n_times - rand_idx] = hfo_matrix[:, :, rand_idx:]\n",
    "    #shuff[:, :, n_times - rand_idx:] = hfo_matrix[:, :, :rand_idx]\n",
    "        \n",
    "    shuff = np.concatenate((chunk2, chunk1), axis=2)\n",
    "\n",
    "    return shuff\n",
    "\n",
    "\n",
    "@njit(fastmath=True)\n",
    "def shuffle_hfo_matrix_njit_1split_roll(hfo_matrix, n_splits):\n",
    "    n_hfo, n_beta, n_times = np.shape(hfo_matrix)\n",
    "\n",
    "    rand_idx = np.random.randint(200, n_times-200)\n",
    "    shuff = np.roll()\n",
    "    return shuff\n"
   ]
  },
  {
   "cell_type": "code",
   "execution_count": 25,
   "id": "b7dbad83-78ea-48c8-96df-2e64b3438212",
   "metadata": {},
   "outputs": [
    {
     "name": "stdout",
     "output_type": "stream",
     "text": [
      "1.950736811000013\n",
      "1.5052925090000144\n"
     ]
    }
   ],
   "source": [
    "t0 = time.perf_counter()\n",
    "\n",
    "res_njit = shuffle_hfo_matrix_njit_1split(hfo_matrix, 1)\n",
    "    \n",
    "t_njit = time.perf_counter() - t0\n",
    "print(t_njit)\n",
    "\n",
    "t0 = time.perf_counter()\n",
    "\n",
    "res_njit = shuffle_hfo_matrix_njit_1split(hfo_matrix, 1)\n",
    "    \n",
    "t_njit = time.perf_counter() - t0\n",
    "print(t_njit)"
   ]
  },
  {
   "cell_type": "code",
   "execution_count": 34,
   "id": "c058e5bf-1dd0-43a1-81e3-ddf78d482983",
   "metadata": {},
   "outputs": [
    {
     "name": "stdout",
     "output_type": "stream",
     "text": [
      "2.461872783999979\n",
      "1.9223293369998373\n"
     ]
    }
   ],
   "source": [
    "t0 = time.perf_counter()\n",
    "\n",
    "res_njit = shuffle_hfo_matrix_njit(hfo_matrix, 1)\n",
    "    \n",
    "t_njit = time.perf_counter() - t0\n",
    "print(t_njit)\n",
    "\n",
    "t0 = time.perf_counter()\n",
    "\n",
    "res_njit = shuffle_hfo_matrix_njit(hfo_matrix, 1)\n",
    "    \n",
    "t_njit = time.perf_counter() - t0\n",
    "print(t_njit)"
   ]
  },
  {
   "cell_type": "code",
   "execution_count": 28,
   "id": "6343329f-eaaa-483c-aae7-bb2a1e9ada74",
   "metadata": {},
   "outputs": [
    {
     "name": "stdout",
     "output_type": "stream",
     "text": [
      "2.132703412000012\n"
     ]
    }
   ],
   "source": [
    "t0 = time.perf_counter()\n",
    "\n",
    "res_py = shuffle_hfo_matrix(hfo_matrix, 1)\n",
    "    \n",
    "t_python = time.perf_counter() - t0\n",
    "print(t_python)"
   ]
  },
  {
   "cell_type": "markdown",
   "id": "e8cddad9-87e1-4eb6-8638-57745bd8b58b",
   "metadata": {},
   "source": [
    "## calculate_surrogate_matrix"
   ]
  },
  {
   "cell_type": "code",
   "execution_count": 6,
   "id": "4bf86a90-1ffd-487e-a25c-b353f9c55ecc",
   "metadata": {},
   "outputs": [],
   "source": []
  },
  {
   "cell_type": "code",
   "execution_count": 14,
   "id": "a1f0fe48-fba8-4d8a-a0b2-1dbc07137881",
   "metadata": {},
   "outputs": [],
   "source": [
    "@njit(fastmath=True, parallel=True)\n",
    "def calculate_surrogates_njit(beta_matrix, hfo_matrix, n_surrogates, n_splits=1):\n",
    "    n_hfo, n_beta = np.shape(beta_matrix)[0], np.shape(beta_matrix)[1]\n",
    "    surrogate_pac_matrices = np.zeros((n_surrogates, n_hfo, n_beta), dtype=np.float64)\n",
    "    for k in prange(n_surrogates):\n",
    "        if n_splits == 1:\n",
    "            shuffled_hfo_matrix = shuffle_hfo_matrix_njit_1split(hfo_matrix, 1)\n",
    "        else:\n",
    "            shuffled_hfo_matrix = shuffle_hfo_matrix_njit(hfo_matrix, n_splits)\n",
    "        #shuffled_hfo_matrix = hfo_matrix\n",
    "        surrogate_pac_matrices[k, :, :] = calculate_PAC_matrix_njit(beta_matrix, shuffled_hfo_matrix)\n",
    "    return surrogate_pac_matrices\n",
    "\n",
    "\n",
    "def calculate_surrogates(beta_matrix, hfo_matrix, n_surrogates, n_splits=1):\n",
    "    n_hfo, n_beta = np.shape(beta_matrix)[0], np.shape(beta_matrix)[1]\n",
    "    surrogate_pac_matrices = np.zeros((n_surrogates, n_hfo, n_beta))\n",
    "    for k in range(n_surrogates):\n",
    "        shuffled_hfo_matrix = shuffle_hfo_matrix(hfo_matrix, n_splits)\n",
    "        surrogate_pac_matrices[k, :, :] = calculate_PAC_matrix_njit(beta_matrix, shuffled_hfo_matrix)\n",
    "    return surrogate_pac_matrices"
   ]
  },
  {
   "cell_type": "code",
   "execution_count": null,
   "id": "f2881b4a-9e3e-4194-aeb5-97f03797bff1",
   "metadata": {},
   "outputs": [],
   "source": [
    "t0 = time.perf_counter()\n",
    "\n",
    "res_njit = calculate_surrogates_njit(beta_matrix, hfo_matrix, 10)\n",
    "    \n",
    "t_njit = time.perf_counter() - t0\n",
    "print(t_njit)\n",
    "\n",
    "# t0 = time.perf_counter()\n",
    "\n",
    "# res_njit = calculate_surrogates_njit(beta_matrix, hfo_matrix, 10)\n",
    "    \n",
    "# t_njit = time.perf_counter() - t0\n",
    "# print(t_njit)"
   ]
  },
  {
   "cell_type": "code",
   "execution_count": null,
   "id": "86ed48e5-b3d3-43ad-b611-e13e85594cd1",
   "metadata": {},
   "outputs": [],
   "source": [
    "t0 = time.perf_counter()\n",
    "\n",
    "res_py = calculate_surrogates(beta_matrix, hfo_matrix, 20)\n",
    "    \n",
    "t_python = time.perf_counter() - t0\n",
    "print(t_python)"
   ]
  },
  {
   "cell_type": "code",
   "execution_count": null,
   "id": "9a023981-8954-4d5e-a4f9-d10bb5589bee",
   "metadata": {},
   "outputs": [],
   "source": []
  }
 ],
 "metadata": {
  "kernelspec": {
   "display_name": "Python 3 (ipykernel)",
   "language": "python",
   "name": "python3"
  },
  "language_info": {
   "codemirror_mode": {
    "name": "ipython",
    "version": 3
   },
   "file_extension": ".py",
   "mimetype": "text/x-python",
   "name": "python",
   "nbconvert_exporter": "python",
   "pygments_lexer": "ipython3",
   "version": "3.8.11"
  }
 },
 "nbformat": 4,
 "nbformat_minor": 5
}
